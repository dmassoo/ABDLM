{
 "cells": [
  {
   "cell_type": "code",
   "execution_count": 1,
   "metadata": {},
   "outputs": [],
   "source": [
    "from cassandra.cluster import Cluster"
   ]
  },
  {
   "cell_type": "code",
   "execution_count": 2,
   "metadata": {},
   "outputs": [],
   "source": [
    "cluster = Cluster(['my-cassandra'], port=9042)\n",
    "session = cluster.connect()\n",
    "# session = cluster.connect('cityinfo',wait_for_all_pools=False)\n"
   ]
  },
  {
   "cell_type": "code",
   "execution_count": 4,
   "metadata": {},
   "outputs": [
    {
     "data": {
      "text/plain": [
       "<cassandra.cluster.ResultSet at 0x7f0e4d0df8b0>"
      ]
     },
     "execution_count": 4,
     "metadata": {},
     "output_type": "execute_result"
    }
   ],
   "source": [
    "session.execute(\"create keyspace vk with replication = {'class' : 'SimpleStrategy', 'replication_factor':1}\")\n",
    "session.execute(\"use vk\")"
   ]
  },
  {
   "cell_type": "code",
   "execution_count": 5,
   "metadata": {},
   "outputs": [
    {
     "data": {
      "text/plain": [
       "<cassandra.cluster.ResultSet at 0x7f0e5c042850>"
      ]
     },
     "execution_count": 5,
     "metadata": {},
     "output_type": "execute_result"
    }
   ],
   "source": [
    "session.execute(\"\"\"\n",
    "CREATE TABLE vk.likes (\n",
    " ownerId int,\n",
    " itemId int,\n",
    " likerId int,\n",
    " PRIMARY KEY((ownerId), itemId, likerId)\n",
    ");\"\"\")"
   ]
  },
  {
   "cell_type": "code",
   "execution_count": 6,
   "metadata": {},
   "outputs": [
    {
     "data": {
      "text/plain": [
       "<cassandra.cluster.ResultSet at 0x7f0e4c936a60>"
      ]
     },
     "execution_count": 6,
     "metadata": {},
     "output_type": "execute_result"
    }
   ],
   "source": [
    "session.execute(\"\"\"INSERT INTO vk.likes (ownerId, itemId, likerId) VALUES (1234,413,111)\"\"\")\n",
    "session.execute(\"\"\"INSERT INTO vk.likes (ownerId, itemId, likerId) VALUES (1234,413,222)\"\"\")\n",
    "session.execute(\"\"\"INSERT INTO vk.likes (ownerId, itemId, likerId) VALUES (1234,413,333)\"\"\")"
   ]
  },
  {
   "cell_type": "code",
   "execution_count": 7,
   "metadata": {},
   "outputs": [
    {
     "name": "stdout",
     "output_type": "stream",
     "text": [
      "Row(ownerid=1234, itemid=413, likerid=111)\n",
      "Row(ownerid=1234, itemid=413, likerid=222)\n",
      "Row(ownerid=1234, itemid=413, likerid=333)\n"
     ]
    }
   ],
   "source": [
    "for row in session.execute(\"\"\"select * from vk.likes where ownerId = 1234\"\"\"):\n",
    "  print(row)"
   ]
  },
  {
   "cell_type": "code",
   "execution_count": 8,
   "metadata": {},
   "outputs": [
    {
     "name": "stdout",
     "output_type": "stream",
     "text": [
      "1234 413 111\n",
      "1234 413 222\n",
      "1234 413 333\n"
     ]
    }
   ],
   "source": [
    "session.execute('use vk')\n",
    "rows = session.execute('SELECT * FROM vk.likes')\n",
    "for row in rows:\n",
    "    print(row.ownerid,row.itemid,row.likerid)"
   ]
  },
  {
   "cell_type": "code",
   "execution_count": 3,
   "metadata": {},
   "outputs": [
    {
     "data": {
      "text/plain": [
       "<cassandra.cluster.ResultSet at 0x7efe4c0ff9d0>"
      ]
     },
     "execution_count": 3,
     "metadata": {},
     "output_type": "execute_result"
    }
   ],
   "source": [
    "session.execute(\"create keyspace testing_ks with replication = {'class' : 'SimpleStrategy', 'replication_factor':1}\")\n",
    "session.execute(\"use testing_ks\")"
   ]
  },
  {
   "cell_type": "code",
   "execution_count": 17,
   "metadata": {},
   "outputs": [
    {
     "data": {
      "text/plain": [
       "<cassandra.cluster.ResultSet at 0x7efe33f50f70>"
      ]
     },
     "execution_count": 17,
     "metadata": {},
     "output_type": "execute_result"
    }
   ],
   "source": [
    "session.execute(\"\"\"\n",
    "DROP TABLE IF EXISTS testing_ks.some_table\"\"\")\n",
    "\n",
    "session.execute(\"\"\"\n",
    "CREATE TABLE testing_ks.some_table (\n",
    " id int,\n",
    " topic text,\n",
    " value text,\n",
    " PRIMARY KEY(id)\n",
    ");\"\"\")"
   ]
  },
  {
   "cell_type": "code",
   "execution_count": 18,
   "metadata": {},
   "outputs": [],
   "source": [
    "topic_name = \"testing\"\n",
    "values = [\"1\", \"2\", \"3\", \"4\", \"5\"]\n",
    "\n",
    "# session.execute(f\"INSERT INTO testing_ks.some_table (topic, value) VALUES ('{topic_name}','govno')\")\n",
    "\n",
    "for value in values:\n",
    "    session.execute(f\"INSERT INTO testing_ks.some_table (id, topic, value) VALUES ({value},'{topic_name}','{value}')\")"
   ]
  },
  {
   "cell_type": "code",
   "execution_count": 19,
   "metadata": {},
   "outputs": [
    {
     "name": "stdout",
     "output_type": "stream",
     "text": [
      "Row(id=5, topic='testing', value='5')\n",
      "Row(id=1, topic='testing', value='1')\n",
      "Row(id=2, topic='testing', value='2')\n",
      "Row(id=4, topic='testing', value='4')\n",
      "Row(id=3, topic='testing', value='3')\n"
     ]
    }
   ],
   "source": [
    "for row in session.execute(\"\"\"select * from testing_ks.some_table\"\"\"):\n",
    "  print(row)"
   ]
  }
 ],
 "metadata": {
  "kernelspec": {
   "display_name": "Python 3.8.15 64-bit",
   "language": "python",
   "name": "python3"
  },
  "language_info": {
   "codemirror_mode": {
    "name": "ipython",
    "version": 3
   },
   "file_extension": ".py",
   "mimetype": "text/x-python",
   "name": "python",
   "nbconvert_exporter": "python",
   "pygments_lexer": "ipython3",
   "version": "3.8.15"
  },
  "orig_nbformat": 4,
  "vscode": {
   "interpreter": {
    "hash": "949777d72b0d2535278d3dc13498b2535136f6dfe0678499012e853ee9abcab1"
   }
  }
 },
 "nbformat": 4,
 "nbformat_minor": 2
}
