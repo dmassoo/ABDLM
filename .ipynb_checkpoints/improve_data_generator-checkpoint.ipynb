{
 "cells": [
  {
   "cell_type": "code",
   "execution_count": 1,
   "metadata": {
    "pycharm": {
     "name": "#%%\n"
    }
   },
   "outputs": [],
   "source": [
    "import pandas as pd\n",
    "from numpy.random import choice, randint\n",
    "import uuid\n",
    "from datetime import datetime, timezone, timedelta\n",
    "from tqdm import tqdm\n",
    "import concurrent.futures\n",
    "from joblib import Parallel, delayed"
   ]
  },
  {
   "cell_type": "code",
   "execution_count": 2,
   "metadata": {
    "pycharm": {
     "name": "#%%\n"
    }
   },
   "outputs": [],
   "source": [
    "# Формат представления данных\n",
    "#\n",
    "# logs = {\n",
    "#     \"timestamp\": \"DateTime\",\n",
    "#     \"level\": \"TRACE/DEBUG/.../ERROR\",\n",
    "#     \"microservice_id\": \"String\",\n",
    "#     \"operation_type\": \"VIEW/BUY/CANCEL/REFUND\",\n",
    "#     \"operation_id\": \"UUID\",\n",
    "#     \"user_id\": \"UUID\",\n",
    "#     \"message\": \"Arbitrary string\"\n",
    "# }\n",
    "#\n",
    "# metrics = {\n",
    "#     \"timestamp\": \"DateTime\",\n",
    "#     \"microservice_id\": \"String\",\n",
    "#     \"operation_type\": \"GET/POST or view,buy,cancel,refund\",\n",
    "#     \"operation_id\": \"UUID\",\n",
    "#     \"user_id\": \"UUID\",\n",
    "#     \"value\": \"Arbitrary value\"  #exec time, cpu/gpu consumption, retry count\n",
    "# }\n",
    "EVENT_TYPE = ['VIEW', 'TRANSACTION', 'CPU', 'RAM']\n",
    "MICROSERVICE_ID = ['VIEW', 'BUY', 'CANCEL', 'REFUND']\n",
    "LEVEL = ['TRACE', 'DEBUG', 'ERROR']\n",
    "OPERATION_TYPE = MICROSERVICE_ID\n",
    "OPERATION_TYPE.append('GET')\n",
    "OPERATION_TYPE.append('POST')\n"
   ]
  },
  {
   "cell_type": "code",
   "execution_count": 3,
   "metadata": {
    "pycharm": {
     "name": "#%%\n"
    }
   },
   "outputs": [
    {
     "name": "stderr",
     "output_type": "stream",
     "text": [
      "100%|██████████| 1000/1000 [00:00<00:00, 76928.65it/s]\n"
     ]
    }
   ],
   "source": [
    "simultaneous_users = 12\n",
    "average_time_in_site = 6 #sec\n",
    "potencial_users = 1000\n",
    "\n",
    "potential_operation_id = 100\n",
    "simultaneous_operation_id = 3\n",
    "\n",
    "user_db = []\n",
    "for user_id in tqdm(range(potencial_users)):\n",
    "    user_db.append(str(uuid.uuid4()))\n"
   ]
  },
  {
   "cell_type": "code",
   "execution_count": 4,
   "metadata": {
    "pycharm": {
     "name": "#%%\n"
    }
   },
   "outputs": [],
   "source": [
    "\n",
    "# def common_metrics(start,simultaneous_users=simultaneous_users, average_time_in_site=average_time_in_site):\n",
    "#     users = []\n",
    "#     metrics = {}\n",
    "#     dt_now=datetime.now().replace(tzinfo=timezone.utc).timestamp()\n",
    "#     if  (dt_now - start) > average_time_in_site or not users:\n",
    "#         users = choice(user_db, simultaneous_users)\n",
    "#         start = datetime.now().replace(tzinfo=timezone.utc).timestamp()\n",
    "#     metrics['timestamp'] = dt_now\n",
    "#     metrics['microservice_id'] = choice(MICROSERVICE_ID)\n",
    "#     metrics['operation_id'] = str(uuid.uuid4())\n",
    "#     metrics['user_id'] = choice(users)\n",
    "#     metrics['event_type'] = choice(EVENT_TYPE)\n",
    "#\n",
    "#     def generate_metrics_value():\n",
    "#         return 1\n",
    "#\n",
    "#     metrics['value'] = generate_metrics_value()\n",
    "#     return metrics"
   ]
  },
  {
   "cell_type": "code",
   "execution_count": 5,
   "metadata": {
    "pycharm": {
     "name": "#%%\n"
    }
   },
   "outputs": [],
   "source": [
    "# запускать многопоточно\n",
    "new = []\n",
    "def common_metrics_per_one(user):\n",
    "    user_metrics = []\n",
    "    operation_ids = [str(uuid.uuid4()) for _ in range (3)]\n",
    "    # user = choice(user_db)\n",
    "    size = randint(1, 30)\n",
    "    for i in range(size):\n",
    "        metrics = {}\n",
    "        dt_now=datetime.now().replace(tzinfo=timezone.utc).timestamp()\n",
    "        metrics['timestamp'] = dt_now\n",
    "        metrics['microservice_id'] = choice(MICROSERVICE_ID)\n",
    "        metrics['operation_id'] = choice(operation_ids)\n",
    "        metrics['user_id'] = user\n",
    "        metrics['event_type'] = choice(EVENT_TYPE)\n",
    "\n",
    "        def generate_metrics_value():\n",
    "            return 1\n",
    "\n",
    "        metrics['value'] = generate_metrics_value()\n",
    "        metrics['size'] = size\n",
    "        user_metrics.append(metrics)\n",
    "    return user_metrics"
   ]
  },
  {
   "cell_type": "code",
   "execution_count": null,
   "metadata": {
    "pycharm": {
     "is_executing": true,
     "name": "#%%\n"
    }
   },
   "outputs": [],
   "source": [
    "results = Parallel(n_jobs=12)(delayed(common_metrics_per_one)(user) for user in users)"
   ]
  },
  {
   "cell_type": "code",
   "execution_count": null,
   "metadata": {
    "pycharm": {
     "is_executing": true,
     "name": "#%%\n"
    }
   },
   "outputs": [],
   "source": [
    "import multiprocessing\n",
    "\n",
    "def driver_func():\n",
    "    PROCESSES = 5\n",
    "    with multiprocessing.Pool(PROCESSES) as pool:\n",
    "        users = choice(user_db, 50)\n",
    "        results = [pool.apply_async(common_metrics_per_one, user) for user in users]\n",
    "\n",
    "        for r in results:\n",
    "            print('\\t', r.get())\n",
    "driver_func()"
   ]
  },
  {
   "cell_type": "code",
   "execution_count": null,
   "metadata": {
    "pycharm": {
     "is_executing": true,
     "name": "#%%\n"
    }
   },
   "outputs": [],
   "source": [
    "import multiprocessing\n",
    "\n",
    "def double(a):\n",
    "    return a * 2\n",
    "\n",
    "def driver_func():\n",
    "    PROCESSES = 4\n",
    "    with multiprocessing.Pool(PROCESSES) as pool:\n",
    "        params = [(1, ), (2, ), (3, ), (4, )]\n",
    "        results = [pool.apply_async(double, p) for p in params]\n",
    "\n",
    "        for r in results:\n",
    "            print('\\t', r.get())\n",
    "\n",
    "driver_func()"
   ]
  },
  {
   "cell_type": "code",
   "execution_count": null,
   "metadata": {
    "pycharm": {
     "name": "#%%\n"
    }
   },
   "outputs": [],
   "source": []
  }
 ],
 "metadata": {
  "kernelspec": {
   "display_name": "Python 3 (ipykernel)",
   "language": "python",
   "name": "python3"
  },
  "language_info": {
   "codemirror_mode": {
    "name": "ipython",
    "version": 3
   },
   "file_extension": ".py",
   "mimetype": "text/x-python",
   "name": "python",
   "nbconvert_exporter": "python",
   "pygments_lexer": "ipython3",
   "version": "3.8.13"
  }
 },
 "nbformat": 4,
 "nbformat_minor": 1
}
